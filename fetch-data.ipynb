{
 "cells": [
  {
   "cell_type": "code",
   "execution_count": 1,
   "metadata": {
    "execution": {
     "iopub.execute_input": "2022-03-15T12:41:37.360100Z",
     "iopub.status.busy": "2022-03-15T12:41:37.359718Z",
     "iopub.status.idle": "2022-03-15T12:41:38.075017Z",
     "shell.execute_reply": "2022-03-15T12:41:38.074066Z"
    }
   },
   "outputs": [],
   "source": [
    "! [ -f /data/yellow_tripdata_2015-01.csv ] || wget -v \"https://s3.amazonaws.com/nyc-tlc/trip+data/yellow_tripdata_2015-01.csv\" -O \"/data/yellow_tripdata_2015-01.csv\""
   ]
  },
  {
   "cell_type": "code",
   "execution_count": 2,
   "metadata": {
    "execution": {
     "iopub.execute_input": "2022-03-15T12:41:38.081466Z",
     "iopub.status.busy": "2022-03-15T12:41:38.081000Z",
     "iopub.status.idle": "2022-03-15T12:41:38.792451Z",
     "shell.execute_reply": "2022-03-15T12:41:38.791658Z"
    }
   },
   "outputs": [
    {
     "name": "stdout",
     "output_type": "stream",
     "text": [
      "360K\t/data/cal_housing_py3.pkz\r\n",
      "1.9G\t/data/yellow_tripdata_2015-01.csv\r\n",
      "479M\t/data/yellow_tripdata_2015-01.parquet\r\n"
     ]
    }
   ],
   "source": [
    "!du -h /data/*"
   ]
  }
 ],
 "metadata": {
  "kernelspec": {
   "display_name": "Python 3",
   "language": "python",
   "name": "orchest-kernel-a653a50e-86df-4680-9085-3873435140c3"
  },
  "language_info": {
   "codemirror_mode": {
    "name": "ipython",
    "version": 3
   },
   "file_extension": ".py",
   "mimetype": "text/x-python",
   "name": "python",
   "nbconvert_exporter": "python",
   "pygments_lexer": "ipython3",
   "version": "3.7.6"
  }
 },
 "nbformat": 4,
 "nbformat_minor": 4
}
